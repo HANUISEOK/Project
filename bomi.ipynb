{
 "cells": [
  {
   "cell_type": "code",
   "execution_count": 1,
   "metadata": {},
   "outputs": [],
   "source": [
    "## 크롤링 및 DB연동을 위한 패키지 import\n",
    "\n",
    "import cx_Oracle\n",
    "import pandas as pd\n",
    "import numpy as np\n",
    "import requests as rq\n",
    "import time\n",
    "from tqdm import tqdm_notebook as tn\n",
    "from bs4 import BeautifulSoup as bs\n",
    "from selenium import webdriver as wd\n",
    "from selenium.webdriver.common.keys import Keys"
   ]
  },
  {
   "cell_type": "code",
   "execution_count": 2,
   "metadata": {},
   "outputs": [],
   "source": [
    "# 데이터베이스 연동\n",
    "\n",
    "dsn = cx_Oracle.makedsn('121.147.213.53',1521,\"xe\")\n",
    "db = cx_Oracle.connect('pro2','pro2',dsn)\n",
    "cursor = db.cursor()"
   ]
  },
  {
   "cell_type": "code",
   "execution_count": 3,
   "metadata": {},
   "outputs": [
    {
     "name": "stdout",
     "output_type": "stream",
     "text": [
      "400 400\n"
     ]
    }
   ],
   "source": [
    "# 이미지를 가져올 상품명을 조회하는 SQL문 생성\n",
    "cursor.execute(\"select Product_name from product\")\n",
    "\n",
    "# SQL문으로 가져온 상품명을 리스트 A 로 담아줌\n",
    "A = list(cursor.fetchall())\n",
    "\n",
    "# 이미지가 NONE이면 기존 이미지주소를 사용할 SQL문 생성\n",
    "cursor.execute(\"select IMG_ADDR from product\")\n",
    "B =  list(cursor.fetchall())\n",
    "\n",
    "print(len(A), len(B))"
   ]
  },
  {
   "cell_type": "code",
   "execution_count": 4,
   "metadata": {},
   "outputs": [],
   "source": [
    "## 크롤링해야되니까 크롬 드라이버 킴\n",
    "\n",
    "url = 'https://www.kurly.com/shop/goods/goods_search.php?searched=Y&sword='\n",
    "driver = wd.Chrome()\n",
    "driver.get(url)"
   ]
  },
  {
   "cell_type": "code",
   "execution_count": 5,
   "metadata": {},
   "outputs": [],
   "source": [
    "img_list = []\n",
    "for i in range(60): # 한 페이지에 20개씩, 3개 페이지를 만들어야되니까 60번 돌도록\n",
    "    search = driver.find_element_by_css_selector(\"#sword\") #검색창 element 찾기\n",
    "    time.sleep(1) # 찾았으면 쉬기\n",
    "    search.send_keys(A[i]) # 검색창에 상품명 입력해주기\n",
    "    search.send_keys(Keys.ENTER) # 검색\n",
    "    time.sleep(3) # 이게 검색되고 시간이 좀 걸리더라고\n",
    "    try :\n",
    "        img = driver.find_element_by_css_selector(\"#goodsList > div.list_goods > div > ul > li:nth-child(1) > div > div > a > img\")\n",
    "        img_link = img.get_attribute(\"src\")\n",
    "        img_list.append(img_link) # 이미지 크롤링해서 img_list에 담아줬음\n",
    "    except:\n",
    "        img_link = \"NONE\" # 이미지가 없거나, 이미지 크롤링 되기 전 화면 넘어가면 걍 NONE\n",
    "        img_list.append(img_link)\n",
    "\n",
    "    time.sleep(1)\n",
    "    search = driver.find_element_by_css_selector(\"#sword\") # 검색창 다시 찾아줌\n",
    "    search.send_keys(Keys.LEFT_SHIFT, Keys.HOME) # 검색했던 내용 다 지우는 코드 1\n",
    "    search.send_keys(Keys.BACKSPACE) # 코드 2"
   ]
  },
  {
   "cell_type": "code",
   "execution_count": 10,
   "metadata": {},
   "outputs": [
    {
     "ename": "InterfaceError",
     "evalue": "not open",
     "output_type": "error",
     "traceback": [
      "\u001b[1;31m---------------------------------------------------------------------------\u001b[0m",
      "\u001b[1;31mInterfaceError\u001b[0m                            Traceback (most recent call last)",
      "\u001b[1;32m<ipython-input-10-31e4af82bfe9>\u001b[0m in \u001b[0;36m<module>\u001b[1;34m\u001b[0m\n\u001b[0;32m      8\u001b[0m     \u001b[0msql\u001b[0m \u001b[1;33m=\u001b[0m \u001b[1;34m\"update product set IMG_ADDR = :1 where PRODUCT_NAME= :2\"\u001b[0m\u001b[1;33m\u001b[0m\u001b[1;33m\u001b[0m\u001b[0m\n\u001b[0;32m      9\u001b[0m     \u001b[0mval\u001b[0m \u001b[1;33m=\u001b[0m \u001b[1;33m(\u001b[0m\u001b[0mb\u001b[0m\u001b[1;33m,\u001b[0m\u001b[0ma\u001b[0m\u001b[1;33m)\u001b[0m\u001b[1;33m\u001b[0m\u001b[1;33m\u001b[0m\u001b[0m\n\u001b[1;32m---> 10\u001b[1;33m     \u001b[0mcursor\u001b[0m\u001b[1;33m.\u001b[0m\u001b[0mexecute\u001b[0m\u001b[1;33m(\u001b[0m\u001b[0msql\u001b[0m\u001b[1;33m,\u001b[0m\u001b[0mval\u001b[0m\u001b[1;33m)\u001b[0m\u001b[1;33m\u001b[0m\u001b[1;33m\u001b[0m\u001b[0m\n\u001b[0m",
      "\u001b[1;31mInterfaceError\u001b[0m: not open"
     ]
    }
   ],
   "source": [
    "# for문 돌려서 img_list 찾아진대로 DB에 연동해보자\n",
    "\n",
    "for i in range(len(img_list)):\n",
    "    a = str(A[i])\n",
    "    b = str(img_list[i])\n",
    "    if (b == 'NONE'): # 이미지 못 찾았으면 걍 원래 DB에 있던거 쓰도록\n",
    "        b = str(B[i])\n",
    "    sql = \"update product set IMG_ADDR = :1 where PRODUCT_NAME= :2\"\n",
    "    val = (b,a)\n",
    "    cursor.execute(sql,val)"
   ]
  },
  {
   "cell_type": "code",
   "execution_count": 11,
   "metadata": {},
   "outputs": [
    {
     "ename": "InterfaceError",
     "evalue": "not open",
     "output_type": "error",
     "traceback": [
      "\u001b[1;31m---------------------------------------------------------------------------\u001b[0m",
      "\u001b[1;31mInterfaceError\u001b[0m                            Traceback (most recent call last)",
      "\u001b[1;32m<ipython-input-11-6b3ac33220a0>\u001b[0m in \u001b[0;36m<module>\u001b[1;34m\u001b[0m\n\u001b[0;32m      1\u001b[0m \u001b[1;31m# DB에 데이터 잘 옮겨졌는지 확인\u001b[0m\u001b[1;33m\u001b[0m\u001b[1;33m\u001b[0m\u001b[1;33m\u001b[0m\u001b[0m\n\u001b[1;32m----> 2\u001b[1;33m \u001b[0mcursor\u001b[0m\u001b[1;33m.\u001b[0m\u001b[0mexecute\u001b[0m\u001b[1;33m(\u001b[0m\u001b[1;34m\"select * from product\"\u001b[0m\u001b[1;33m)\u001b[0m\u001b[1;33m\u001b[0m\u001b[1;33m\u001b[0m\u001b[0m\n\u001b[0m\u001b[0;32m      3\u001b[0m \u001b[0mcursor\u001b[0m\u001b[1;33m.\u001b[0m\u001b[0mfetchall\u001b[0m\u001b[1;33m(\u001b[0m\u001b[1;33m)\u001b[0m\u001b[1;33m\u001b[0m\u001b[1;33m\u001b[0m\u001b[0m\n",
      "\u001b[1;31mInterfaceError\u001b[0m: not open"
     ]
    }
   ],
   "source": [
    "# DB에 데이터 잘 옮겨졌는지 확인\n",
    "cursor.execute(\"select * from product\")\n",
    "cursor.fetchall()"
   ]
  },
  {
   "cell_type": "code",
   "execution_count": 12,
   "metadata": {},
   "outputs": [
    {
     "ename": "InterfaceError",
     "evalue": "not connected",
     "output_type": "error",
     "traceback": [
      "\u001b[1;31m---------------------------------------------------------------------------\u001b[0m",
      "\u001b[1;31mInterfaceError\u001b[0m                            Traceback (most recent call last)",
      "\u001b[1;32m<ipython-input-12-338138025b87>\u001b[0m in \u001b[0;36m<module>\u001b[1;34m\u001b[0m\n\u001b[0;32m      1\u001b[0m \u001b[1;31m# 옮겨졌으면 commit 해야지\u001b[0m\u001b[1;33m\u001b[0m\u001b[1;33m\u001b[0m\u001b[1;33m\u001b[0m\u001b[0m\n\u001b[1;32m----> 2\u001b[1;33m \u001b[0mdb\u001b[0m\u001b[1;33m.\u001b[0m\u001b[0mcommit\u001b[0m\u001b[1;33m(\u001b[0m\u001b[1;33m)\u001b[0m\u001b[1;33m\u001b[0m\u001b[1;33m\u001b[0m\u001b[0m\n\u001b[0m",
      "\u001b[1;31mInterfaceError\u001b[0m: not connected"
     ]
    }
   ],
   "source": [
    "# 옮겨졌으면 commit 해야지\n",
    "db.commit()"
   ]
  },
  {
   "cell_type": "code",
   "execution_count": 13,
   "metadata": {},
   "outputs": [
    {
     "ename": "InterfaceError",
     "evalue": "not open",
     "output_type": "error",
     "traceback": [
      "\u001b[1;31m---------------------------------------------------------------------------\u001b[0m",
      "\u001b[1;31mInterfaceError\u001b[0m                            Traceback (most recent call last)",
      "\u001b[1;32m<ipython-input-13-e383032f6b73>\u001b[0m in \u001b[0;36m<module>\u001b[1;34m\u001b[0m\n\u001b[0;32m      1\u001b[0m \u001b[1;31m# 그리고 데이터베이스 사용중지, 안 하면 DB사용자로 메모리 채우고 있음\u001b[0m\u001b[1;33m\u001b[0m\u001b[1;33m\u001b[0m\u001b[1;33m\u001b[0m\u001b[0m\n\u001b[1;32m----> 2\u001b[1;33m \u001b[0mcursor\u001b[0m\u001b[1;33m.\u001b[0m\u001b[0mclose\u001b[0m\u001b[1;33m(\u001b[0m\u001b[1;33m)\u001b[0m\u001b[1;33m\u001b[0m\u001b[1;33m\u001b[0m\u001b[0m\n\u001b[0m\u001b[0;32m      3\u001b[0m \u001b[0mdb\u001b[0m\u001b[1;33m.\u001b[0m\u001b[0mclose\u001b[0m\u001b[1;33m(\u001b[0m\u001b[1;33m)\u001b[0m\u001b[1;33m\u001b[0m\u001b[1;33m\u001b[0m\u001b[0m\n",
      "\u001b[1;31mInterfaceError\u001b[0m: not open"
     ]
    }
   ],
   "source": [
    "# 그리고 데이터베이스 사용중지, 안 하면 DB사용자로 메모리 채우고 있음\n",
    "cursor.close()\n",
    "db.close()"
   ]
  },
  {
   "cell_type": "code",
   "execution_count": null,
   "metadata": {},
   "outputs": [],
   "source": []
  }
 ],
 "metadata": {
  "kernelspec": {
   "display_name": "Python 3",
   "language": "python",
   "name": "python3"
  },
  "language_info": {
   "codemirror_mode": {
    "name": "ipython",
    "version": 3
   },
   "file_extension": ".py",
   "mimetype": "text/x-python",
   "name": "python",
   "nbconvert_exporter": "python",
   "pygments_lexer": "ipython3",
   "version": "3.7.6"
  }
 },
 "nbformat": 4,
 "nbformat_minor": 4
}
