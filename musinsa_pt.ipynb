{
 "cells": [
  {
   "cell_type": "code",
   "execution_count": 20,
   "metadata": {},
   "outputs": [
    {
     "name": "stdout",
     "output_type": "stream",
     "text": [
      "Collecting schedule\n",
      "  Downloading schedule-0.6.0-py2.py3-none-any.whl (8.7 kB)\n",
      "Installing collected packages: schedule\n",
      "Successfully installed schedule-0.6.0\n"
     ]
    }
   ],
   "source": [
    "!pip install schedule"
   ]
  },
  {
   "cell_type": "code",
   "execution_count": 1,
   "metadata": {},
   "outputs": [],
   "source": [
    "import pandas as pd\n",
    "import numpy as np\n",
    "import requests as rq\n",
    "import time\n",
    "from tqdm import tqdm_notebook as tn\n",
    "from bs4 import BeautifulSoup as bs\n",
    "from selenium import webdriver as wd\n",
    "from selenium.webdriver.common.keys import Keys\n",
    "# ActionChains 를 사용하기 위해서.\n",
    "from selenium.webdriver import ActionChains\n",
    "import time\n",
    "import schedule\n",
    "from selenium.webdriver.common.by import By\n",
    "from selenium.webdriver.support.ui import WebDriverWait\n",
    "from selenium.webdriver.support import expected_conditions as EC"
   ]
  },
  {
   "cell_type": "code",
   "execution_count": 2,
   "metadata": {},
   "outputs": [],
   "source": [
    "url = 'https://store.musinsa.com/app/goods/1493357'\n",
    "driver = wd.Chrome(r\"C:\\Users\\SM124\\Desktop\\chromedriver.exe\")\n",
    "driver.get(url)"
   ]
  },
  {
   "cell_type": "code",
   "execution_count": null,
   "metadata": {},
   "outputs": [],
   "source": []
  },
  {
   "cell_type": "code",
   "execution_count": 4,
   "metadata": {},
   "outputs": [],
   "source": [
    "\n",
    "def airpod():\n",
    "#     airpod_img_click = driver.find_element_by_css_selector('div.campaign__section__content > a > img')\n",
    "#     airpod_img_click.click()\n",
    "#     time.sleep(0.1)\n",
    "    \n",
    "    buy_click = driver.find_element_by_css_selector('div.box-btn-buy > div.btn_buy > a.btn_black')\n",
    "    buy_click.click()\n",
    "\n",
    "    # 10초 줄게 10초안에 id 찾는대로 이벤트 발생 시켜 시벨러마 대신 10초 지나면 에러\n",
    "    WebDriverWait(driver, 10).until(\n",
    "        EC.presence_of_element_located((By.ID, \"btn_pay\"))\n",
    "    )\n",
    "    # id가 btn_pay 인 element 를 찾음\n",
    "    some_tag = driver.find_element_by_id('btn_pay')\n",
    "\n",
    "    # somthing element 까지 스크롤\n",
    "    action = ActionChains(driver)\n",
    "    action.move_to_element(some_tag).perform()\n",
    "\n",
    "    kko_click = driver.find_element_by_css_selector(\"label.box_choice > input[type='radio'][value='kkopay']\").click()\n",
    "    time.sleep(0.01)\n",
    "\n",
    "    check1 = driver.find_element_by_css_selector(\"li.cell_discount_tit > label > input[type='checkbox'][name='all_agree']\")\n",
    "    check1.click()\n",
    "    time.sleep(0.01)\n",
    "\n",
    "    pro_buy = driver.find_element_by_css_selector('div.btn_wrap > a.btn_black')\n",
    "    pro_buy.click()\n"
   ]
  },
  {
   "cell_type": "code",
   "execution_count": null,
   "metadata": {
    "scrolled": true
   },
   "outputs": [],
   "source": [
    "schedule.every().day.at(\"16:37:00\").do(airpod)\n",
    "\n",
    "while True:\n",
    "    schedule.run_pending()\n",
    "    time.sleep(0.1)"
   ]
  },
  {
   "cell_type": "code",
   "execution_count": null,
   "metadata": {},
   "outputs": [],
   "source": []
  },
  {
   "cell_type": "code",
   "execution_count": null,
   "metadata": {},
   "outputs": [],
   "source": []
  },
  {
   "cell_type": "code",
   "execution_count": null,
   "metadata": {},
   "outputs": [],
   "source": [
    "airpod_img_click = driver.find_element_by_css_selector('div.campaign__section__content > a')\n",
    "\n",
    "time.sleep(0.1)\n",
    "airpod_img_click.click()\n",
    "time.sleep(2)\n",
    "\n",
    "buy_click = driver.find_element_by_css_selector('div.box-btn-buy > div.btn_buy > a.btn_black')\n",
    "buy_click.click()\n",
    "time.sleep(1)\n",
    "\n",
    "kko_click = driver.find_element_by_css_selector('label.box_choice > input#paym_09')\n",
    "kko_click.click()\n",
    "time.sleep(0.1)\n",
    "\n",
    "check1 = driver.find_element_by_css_selector('p.box_check_agree_individual > label > input')\n",
    "check2 = driver.find_element_by_css_selector('p.box_check_agree_condition > label > input')\n",
    "check1.click()\n",
    "check2.click()\n",
    "time.sleep(0.1)\n",
    "\n",
    "pro_buy = driver.find_element_by_css_selector('div.btn_wrap_btn_type01 > a#btn_pay')\n",
    "pro_buy.click()"
   ]
  }
 ],
 "metadata": {
  "kernelspec": {
   "display_name": "Python 3",
   "language": "python",
   "name": "python3"
  },
  "language_info": {
   "codemirror_mode": {
    "name": "ipython",
    "version": 3
   },
   "file_extension": ".py",
   "mimetype": "text/x-python",
   "name": "python",
   "nbconvert_exporter": "python",
   "pygments_lexer": "ipython3",
   "version": "3.7.6"
  }
 },
 "nbformat": 4,
 "nbformat_minor": 4
}
